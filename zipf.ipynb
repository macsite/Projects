{
 "cells": [
  {
   "cell_type": "code",
   "execution_count": 1,
   "metadata": {},
   "outputs": [
    {
     "name": "stdout",
     "output_type": "stream",
     "text": [
      "pierszy wazny tekst\n"
     ]
    }
   ],
   "source": [
    "print('pierszy wazny tekst')"
   ]
  }
 ],
 "metadata": {
  "kernelspec": {
   "display_name": "Python 3.9.12 ('macko')",
   "language": "python",
   "name": "python3"
  },
  "language_info": {
   "name": "python",
   "version": "3.9.12"
  },
  "orig_nbformat": 4,
  "vscode": {
   "interpreter": {
    "hash": "5818d0b9ead0cc6e3f27290c529b809bb915ec57e55dadb6294ca833a6c137b9"
   }
  }
 },
 "nbformat": 4,
 "nbformat_minor": 2
}
